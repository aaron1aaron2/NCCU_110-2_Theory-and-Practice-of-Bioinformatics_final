{
  "nbformat": 4,
  "nbformat_minor": 0,
  "metadata": {
    "colab": {
      "name": "higashi.ipynb",
      "provenance": [],
      "collapsed_sections": [],
      "machine_shape": "hm"
    },
    "kernelspec": {
      "name": "python3",
      "display_name": "Python 3"
    },
    "language_info": {
      "name": "python"
    },
    "accelerator": "GPU",
    "gpuClass": "standard"
  },
  "cells": [
    {
      "cell_type": "markdown",
      "source": [
        "# Step1: 環境設置"
      ],
      "metadata": {
        "id": "CwPirqVY90Et"
      }
    },
    {
      "cell_type": "code",
      "source": [
        "!git clone https://github.com/ma-compbio/Higashi/"
      ],
      "metadata": {
        "colab": {
          "base_uri": "https://localhost:8080/"
        },
        "id": "mO_2BMBS9Yde",
        "outputId": "20760a78-699e-48aa-e0ea-cab58761656f"
      },
      "execution_count": 1,
      "outputs": [
        {
          "output_type": "stream",
          "name": "stdout",
          "text": [
            "Cloning into 'Higashi'...\n",
            "remote: Enumerating objects: 1268, done.\u001b[K\n",
            "remote: Total 1268 (delta 0), reused 0 (delta 0), pack-reused 1268\u001b[K\n",
            "Receiving objects: 100% (1268/1268), 87.04 MiB | 4.13 MiB/s, done.\n",
            "Resolving deltas: 100% (781/781), done.\n"
          ]
        }
      ]
    },
    {
      "cell_type": "code",
      "source": [
        "%cd Higashi"
      ],
      "metadata": {
        "colab": {
          "base_uri": "https://localhost:8080/"
        },
        "id": "5BsOKtDH9cpt",
        "outputId": "bf44e22d-14e9-4bb2-e9c1-e4e3fc7f325e"
      },
      "execution_count": 2,
      "outputs": [
        {
          "output_type": "stream",
          "name": "stdout",
          "text": [
            "/content/Higashi\n"
          ]
        }
      ]
    },
    {
      "cell_type": "code",
      "source": [
        "%ll"
      ],
      "metadata": {
        "colab": {
          "base_uri": "https://localhost:8080/"
        },
        "id": "vSA1OsNb9hpN",
        "outputId": "a72b936a-6a1d-4591-f68d-d22cdb66a574"
      },
      "execution_count": 3,
      "outputs": [
        {
          "output_type": "stream",
          "name": "stdout",
          "text": [
            "total 28\n",
            "drwxr-xr-x 2 root 4096 Jun 15 15:03 \u001b[0m\u001b[01;34mconda\u001b[0m/\n",
            "drwxr-xr-x 2 root 4096 Jun 15 15:03 \u001b[01;34mfigs\u001b[0m/\n",
            "drwxr-xr-x 5 root 4096 Jun 15 15:03 \u001b[01;34mhigashi\u001b[0m/\n",
            "-rw-r--r-- 1 root 1070 Jun 15 15:03 LICENSE\n",
            "-rw-r--r-- 1 root 2653 Jun 15 15:03 README.md\n",
            "-rw-r--r-- 1 root  796 Jun 15 15:03 setup.py\n",
            "drwxr-xr-x 2 root 4096 Jun 15 15:03 \u001b[01;34mtutorials\u001b[0m/\n"
          ]
        }
      ]
    },
    {
      "cell_type": "code",
      "source": [
        "import torch\n",
        "print(torch.cuda.is_available())"
      ],
      "metadata": {
        "colab": {
          "base_uri": "https://localhost:8080/"
        },
        "id": "d_5j8eQZHny9",
        "outputId": "6e3a4c92-9fc6-4d9a-f6c9-8f57551b227f"
      },
      "execution_count": 4,
      "outputs": [
        {
          "output_type": "stream",
          "name": "stdout",
          "text": [
            "True\n"
          ]
        }
      ]
    },
    {
      "cell_type": "code",
      "source": [
        "!nvidia-smi"
      ],
      "metadata": {
        "colab": {
          "base_uri": "https://localhost:8080/"
        },
        "id": "kY2jRJbNH6_2",
        "outputId": "8280cdff-2c74-4044-9b7d-7b169780f689"
      },
      "execution_count": 5,
      "outputs": [
        {
          "output_type": "stream",
          "name": "stdout",
          "text": [
            "Wed Jun 15 15:03:44 2022       \n",
            "+-----------------------------------------------------------------------------+\n",
            "| NVIDIA-SMI 460.32.03    Driver Version: 460.32.03    CUDA Version: 11.2     |\n",
            "|-------------------------------+----------------------+----------------------+\n",
            "| GPU  Name        Persistence-M| Bus-Id        Disp.A | Volatile Uncorr. ECC |\n",
            "| Fan  Temp  Perf  Pwr:Usage/Cap|         Memory-Usage | GPU-Util  Compute M. |\n",
            "|                               |                      |               MIG M. |\n",
            "|===============================+======================+======================|\n",
            "|   0  Tesla T4            Off  | 00000000:00:04.0 Off |                    0 |\n",
            "| N/A   46C    P8    10W /  70W |      3MiB / 15109MiB |      0%      Default |\n",
            "|                               |                      |                  N/A |\n",
            "+-------------------------------+----------------------+----------------------+\n",
            "                                                                               \n",
            "+-----------------------------------------------------------------------------+\n",
            "| Processes:                                                                  |\n",
            "|  GPU   GI   CI        PID   Type   Process name                  GPU Memory |\n",
            "|        ID   ID                                                   Usage      |\n",
            "|=============================================================================|\n",
            "|  No running processes found                                                 |\n",
            "+-----------------------------------------------------------------------------+\n"
          ]
        }
      ]
    },
    {
      "cell_type": "markdown",
      "source": [
        "### 安裝\n",
        "\n",
        "#### 使用 pip + requirements.txt"
      ],
      "metadata": {
        "id": "JUQ-5rEfE6DP"
      }
    },
    {
      "cell_type": "code",
      "source": [
        "%%shell\n",
        "\n",
        "cat >> ./requirements.txt << EOF\n",
        "numpy>=1.21.2\n",
        "scipy==1.7.3\n",
        "pandas==1.3.4\n",
        "cython>=0.29.24\n",
        "torch>=1.8.0\n",
        "fbpca\n",
        "scikit-learn>=0.23.2\n",
        "tqdm\n",
        "h5py\n",
        "cooler>=0.8\n",
        "seaborn>=0.11.2\n",
        "umap-learn>=0.5\n",
        "bokeh>=2.1.1\n",
        "Pillow\n",
        "EOF"
      ],
      "metadata": {
        "colab": {
          "base_uri": "https://localhost:8080/"
        },
        "id": "HZAn1WumZZ9W",
        "outputId": "18f7ca3f-9266-4bc8-d735-d176a386ec68"
      },
      "execution_count": 6,
      "outputs": [
        {
          "output_type": "execute_result",
          "data": {
            "text/plain": [
              ""
            ]
          },
          "metadata": {},
          "execution_count": 6
        }
      ]
    },
    {
      "cell_type": "code",
      "source": [
        "!pip3 install -r \"./requirements.txt\""
      ],
      "metadata": {
        "colab": {
          "base_uri": "https://localhost:8080/"
        },
        "id": "9PUQXxPzatMQ",
        "outputId": "85d900fd-168c-4550-e9b1-b9a1cf5dc0cd"
      },
      "execution_count": 7,
      "outputs": [
        {
          "output_type": "stream",
          "name": "stdout",
          "text": [
            "Looking in indexes: https://pypi.org/simple, https://us-python.pkg.dev/colab-wheels/public/simple/\n",
            "Requirement already satisfied: numpy>=1.21.2 in /usr/local/lib/python3.7/dist-packages (from -r ./requirements.txt (line 1)) (1.21.6)\n",
            "Collecting scipy==1.7.3\n",
            "  Downloading scipy-1.7.3-cp37-cp37m-manylinux_2_12_x86_64.manylinux2010_x86_64.whl (38.1 MB)\n",
            "\u001b[K     |████████████████████████████████| 38.1 MB 1.2 MB/s \n",
            "\u001b[?25hCollecting pandas==1.3.4\n",
            "  Downloading pandas-1.3.4-cp37-cp37m-manylinux_2_17_x86_64.manylinux2014_x86_64.whl (11.3 MB)\n",
            "\u001b[K     |████████████████████████████████| 11.3 MB 57.9 MB/s \n",
            "\u001b[?25hRequirement already satisfied: cython>=0.29.24 in /usr/local/lib/python3.7/dist-packages (from -r ./requirements.txt (line 4)) (0.29.30)\n",
            "Requirement already satisfied: torch>=1.8.0 in /usr/local/lib/python3.7/dist-packages (from -r ./requirements.txt (line 5)) (1.11.0+cu113)\n",
            "Collecting fbpca\n",
            "  Downloading fbpca-1.0.tar.gz (11 kB)\n",
            "Requirement already satisfied: scikit-learn>=0.23.2 in /usr/local/lib/python3.7/dist-packages (from -r ./requirements.txt (line 7)) (1.0.2)\n",
            "Requirement already satisfied: tqdm in /usr/local/lib/python3.7/dist-packages (from -r ./requirements.txt (line 8)) (4.64.0)\n",
            "Requirement already satisfied: h5py in /usr/local/lib/python3.7/dist-packages (from -r ./requirements.txt (line 9)) (3.1.0)\n",
            "Collecting cooler>=0.8\n",
            "  Downloading cooler-0.8.11-py2.py3-none-any.whl (100 kB)\n",
            "\u001b[K     |████████████████████████████████| 100 kB 12.7 MB/s \n",
            "\u001b[?25hRequirement already satisfied: seaborn>=0.11.2 in /usr/local/lib/python3.7/dist-packages (from -r ./requirements.txt (line 11)) (0.11.2)\n",
            "Collecting umap-learn>=0.5\n",
            "  Downloading umap-learn-0.5.3.tar.gz (88 kB)\n",
            "\u001b[K     |████████████████████████████████| 88 kB 8.4 MB/s \n",
            "\u001b[?25hRequirement already satisfied: bokeh>=2.1.1 in /usr/local/lib/python3.7/dist-packages (from -r ./requirements.txt (line 13)) (2.3.3)\n",
            "Requirement already satisfied: Pillow in /usr/local/lib/python3.7/dist-packages (from -r ./requirements.txt (line 14)) (7.1.2)\n",
            "Requirement already satisfied: python-dateutil>=2.7.3 in /usr/local/lib/python3.7/dist-packages (from pandas==1.3.4->-r ./requirements.txt (line 3)) (2.8.2)\n",
            "Requirement already satisfied: pytz>=2017.3 in /usr/local/lib/python3.7/dist-packages (from pandas==1.3.4->-r ./requirements.txt (line 3)) (2022.1)\n",
            "Requirement already satisfied: typing-extensions in /usr/local/lib/python3.7/dist-packages (from torch>=1.8.0->-r ./requirements.txt (line 5)) (4.2.0)\n",
            "Requirement already satisfied: threadpoolctl>=2.0.0 in /usr/local/lib/python3.7/dist-packages (from scikit-learn>=0.23.2->-r ./requirements.txt (line 7)) (3.1.0)\n",
            "Requirement already satisfied: joblib>=0.11 in /usr/local/lib/python3.7/dist-packages (from scikit-learn>=0.23.2->-r ./requirements.txt (line 7)) (1.1.0)\n",
            "Requirement already satisfied: six in /usr/local/lib/python3.7/dist-packages (from cooler>=0.8->-r ./requirements.txt (line 10)) (1.15.0)\n",
            "Collecting simplejson\n",
            "  Downloading simplejson-3.17.6-cp37-cp37m-manylinux_2_5_x86_64.manylinux1_x86_64.manylinux_2_12_x86_64.manylinux2010_x86_64.whl (130 kB)\n",
            "\u001b[K     |████████████████████████████████| 130 kB 78.6 MB/s \n",
            "\u001b[?25hRequirement already satisfied: click>=7 in /usr/local/lib/python3.7/dist-packages (from cooler>=0.8->-r ./requirements.txt (line 10)) (7.1.2)\n",
            "Collecting pyfaidx\n",
            "  Downloading pyfaidx-0.7.0.tar.gz (102 kB)\n",
            "\u001b[K     |████████████████████████████████| 102 kB 65.5 MB/s \n",
            "\u001b[?25hRequirement already satisfied: multiprocess in /usr/local/lib/python3.7/dist-packages (from cooler>=0.8->-r ./requirements.txt (line 10)) (0.70.13)\n",
            "Collecting pypairix\n",
            "  Downloading pypairix-0.3.7.tar.gz (65 kB)\n",
            "\u001b[K     |████████████████████████████████| 65 kB 5.1 MB/s \n",
            "\u001b[?25hCollecting cytoolz<0.11\n",
            "  Downloading cytoolz-0.10.1.tar.gz (475 kB)\n",
            "\u001b[K     |████████████████████████████████| 475 kB 66.1 MB/s \n",
            "\u001b[?25hRequirement already satisfied: pyyaml in /usr/local/lib/python3.7/dist-packages (from cooler>=0.8->-r ./requirements.txt (line 10)) (3.13)\n",
            "Collecting asciitree\n",
            "  Downloading asciitree-0.3.3.tar.gz (4.0 kB)\n",
            "Requirement already satisfied: cached-property in /usr/local/lib/python3.7/dist-packages (from h5py->-r ./requirements.txt (line 9)) (1.5.2)\n",
            "Requirement already satisfied: matplotlib>=2.2 in /usr/local/lib/python3.7/dist-packages (from seaborn>=0.11.2->-r ./requirements.txt (line 11)) (3.2.2)\n",
            "Requirement already satisfied: numba>=0.49 in /usr/local/lib/python3.7/dist-packages (from umap-learn>=0.5->-r ./requirements.txt (line 12)) (0.51.2)\n",
            "Collecting pynndescent>=0.5\n",
            "  Downloading pynndescent-0.5.7.tar.gz (1.1 MB)\n",
            "\u001b[K     |████████████████████████████████| 1.1 MB 50.0 MB/s \n",
            "\u001b[?25hRequirement already satisfied: Jinja2>=2.9 in /usr/local/lib/python3.7/dist-packages (from bokeh>=2.1.1->-r ./requirements.txt (line 13)) (2.11.3)\n",
            "Requirement already satisfied: tornado>=5.1 in /usr/local/lib/python3.7/dist-packages (from bokeh>=2.1.1->-r ./requirements.txt (line 13)) (5.1.1)\n",
            "Requirement already satisfied: packaging>=16.8 in /usr/local/lib/python3.7/dist-packages (from bokeh>=2.1.1->-r ./requirements.txt (line 13)) (21.3)\n",
            "Requirement already satisfied: toolz>=0.8.0 in /usr/local/lib/python3.7/dist-packages (from cytoolz<0.11->cooler>=0.8->-r ./requirements.txt (line 10)) (0.11.2)\n",
            "Requirement already satisfied: MarkupSafe>=0.23 in /usr/local/lib/python3.7/dist-packages (from Jinja2>=2.9->bokeh>=2.1.1->-r ./requirements.txt (line 13)) (2.0.1)\n",
            "Requirement already satisfied: kiwisolver>=1.0.1 in /usr/local/lib/python3.7/dist-packages (from matplotlib>=2.2->seaborn>=0.11.2->-r ./requirements.txt (line 11)) (1.4.2)\n",
            "Requirement already satisfied: pyparsing!=2.0.4,!=2.1.2,!=2.1.6,>=2.0.1 in /usr/local/lib/python3.7/dist-packages (from matplotlib>=2.2->seaborn>=0.11.2->-r ./requirements.txt (line 11)) (3.0.9)\n",
            "Requirement already satisfied: cycler>=0.10 in /usr/local/lib/python3.7/dist-packages (from matplotlib>=2.2->seaborn>=0.11.2->-r ./requirements.txt (line 11)) (0.11.0)\n",
            "Requirement already satisfied: llvmlite<0.35,>=0.34.0.dev0 in /usr/local/lib/python3.7/dist-packages (from numba>=0.49->umap-learn>=0.5->-r ./requirements.txt (line 12)) (0.34.0)\n",
            "Requirement already satisfied: setuptools in /usr/local/lib/python3.7/dist-packages (from numba>=0.49->umap-learn>=0.5->-r ./requirements.txt (line 12)) (57.4.0)\n",
            "Requirement already satisfied: dill>=0.3.5.1 in /usr/local/lib/python3.7/dist-packages (from multiprocess->cooler>=0.8->-r ./requirements.txt (line 10)) (0.3.5.1)\n",
            "Building wheels for collected packages: umap-learn, cytoolz, pynndescent, fbpca, asciitree, pyfaidx, pypairix\n",
            "  Building wheel for umap-learn (setup.py) ... \u001b[?25l\u001b[?25hdone\n",
            "  Created wheel for umap-learn: filename=umap_learn-0.5.3-py3-none-any.whl size=82829 sha256=65788c36c8f30a5e3029f660aa6910330a33880a9a04f9fc6a072b198fd9e585\n",
            "  Stored in directory: /root/.cache/pip/wheels/b3/52/a5/1fd9e3e76a7ab34f134c07469cd6f16e27ef3a37aeff1fe821\n",
            "  Building wheel for cytoolz (setup.py) ... \u001b[?25l\u001b[?25hdone\n",
            "  Created wheel for cytoolz: filename=cytoolz-0.10.1-cp37-cp37m-linux_x86_64.whl size=1238259 sha256=ca8c9043d4291abd1ebfe190bf2a053602ebf48bd32d57a06368d4e81272238b\n",
            "  Stored in directory: /root/.cache/pip/wheels/db/f0/a6/8d56aaec49585b245b0694bf8972e50a3b2a83331657ea7e95\n",
            "  Building wheel for pynndescent (setup.py) ... \u001b[?25l\u001b[?25hdone\n",
            "  Created wheel for pynndescent: filename=pynndescent-0.5.7-py3-none-any.whl size=54286 sha256=dfc587774027c8f887d326f63d05539320d3fc8930ce5d4e2d6b4f50b4da4648\n",
            "  Stored in directory: /root/.cache/pip/wheels/7f/2a/f8/7bd5dcec71bd5c669f6f574db3113513696b98f3f9b51f496c\n",
            "  Building wheel for fbpca (setup.py) ... \u001b[?25l\u001b[?25hdone\n",
            "  Created wheel for fbpca: filename=fbpca-1.0-py3-none-any.whl size=11375 sha256=117aaf6b02193bb128824233996234b7708a47d149a4f76694973c24d917ba87\n",
            "  Stored in directory: /root/.cache/pip/wheels/93/08/0c/1b9866c35c8d3f136d100dfe88036a32e0795437daca089f70\n",
            "  Building wheel for asciitree (setup.py) ... \u001b[?25l\u001b[?25hdone\n",
            "  Created wheel for asciitree: filename=asciitree-0.3.3-py3-none-any.whl size=5050 sha256=babe8b72b128a651176b8a404ba9b73458de983cf92daeda32dd38a3b9e9802a\n",
            "  Stored in directory: /root/.cache/pip/wheels/12/1c/38/0def51e15add93bff3f4bf9c248b94db0839b980b8535e72a0\n",
            "  Building wheel for pyfaidx (setup.py) ... \u001b[?25l\u001b[?25hdone\n",
            "  Created wheel for pyfaidx: filename=pyfaidx-0.7.0-py3-none-any.whl size=27697 sha256=55581b325491a7f1cfb49d7e7cf9f743aafb8cac55ce2d8521488dd55f959eb7\n",
            "  Stored in directory: /root/.cache/pip/wheels/df/6b/ce/46374a70af569061fa10a6c16525b0d8efe2d9a4069f8a144a\n",
            "  Building wheel for pypairix (setup.py) ... \u001b[?25l\u001b[?25hdone\n",
            "  Created wheel for pypairix: filename=pypairix-0.3.7-cp37-cp37m-linux_x86_64.whl size=142854 sha256=c54fc0bf3d57a7f97021b927cfc8907be6a33c3791c7056a41b88f4c2ea446b8\n",
            "  Stored in directory: /root/.cache/pip/wheels/c7/8e/06/7c0d1ddd07b0311ea0b859c34e63b395cb931857033ab3cff3\n",
            "Successfully built umap-learn cytoolz pynndescent fbpca asciitree pyfaidx pypairix\n",
            "Installing collected packages: scipy, simplejson, pypairix, pynndescent, pyfaidx, pandas, cytoolz, asciitree, umap-learn, fbpca, cooler\n",
            "  Attempting uninstall: scipy\n",
            "    Found existing installation: scipy 1.4.1\n",
            "    Uninstalling scipy-1.4.1:\n",
            "      Successfully uninstalled scipy-1.4.1\n",
            "  Attempting uninstall: pandas\n",
            "    Found existing installation: pandas 1.3.5\n",
            "    Uninstalling pandas-1.3.5:\n",
            "      Successfully uninstalled pandas-1.3.5\n",
            "\u001b[31mERROR: pip's dependency resolver does not currently take into account all the packages that are installed. This behaviour is the source of the following dependency conflicts.\n",
            "albumentations 0.1.12 requires imgaug<0.2.7,>=0.2.5, but you have imgaug 0.2.9 which is incompatible.\u001b[0m\n",
            "Successfully installed asciitree-0.3.3 cooler-0.8.11 cytoolz-0.10.1 fbpca-1.0 pandas-1.3.4 pyfaidx-0.7.0 pynndescent-0.5.7 pypairix-0.3.7 scipy-1.7.3 simplejson-3.17.6 umap-learn-0.5.3\n"
          ]
        }
      ]
    },
    {
      "cell_type": "markdown",
      "source": [
        "#### 使用 setup.py (unuse)"
      ],
      "metadata": {
        "id": "Myz7kFKzaVKh"
      }
    },
    {
      "cell_type": "code",
      "source": [
        "# !sudo python setup.py install # 沒有用"
      ],
      "metadata": {
        "id": "-Hky9eWd9mt2"
      },
      "execution_count": 8,
      "outputs": []
    },
    {
      "cell_type": "markdown",
      "source": [
        "# Step 2: prpare data: Ramani"
      ],
      "metadata": {
        "id": "LlshPyhJFRVH"
      }
    },
    {
      "cell_type": "code",
      "source": [
        "!pwd"
      ],
      "metadata": {
        "colab": {
          "base_uri": "https://localhost:8080/"
        },
        "id": "CemeNafzmmZr",
        "outputId": "6bf73ad2-bc63-49e2-c58a-b260f376f84a"
      },
      "execution_count": 9,
      "outputs": [
        {
          "output_type": "stream",
          "name": "stdout",
          "text": [
            "/content/Higashi\n"
          ]
        }
      ]
    },
    {
      "cell_type": "code",
      "source": [
        "import gdown\n",
        "id = \"1NX6MGSz3JJ_7iN8VDZjjpMlLaqlpA60t\" \n",
        "# id = \"1NWFwjaYT9RxqDUK87h5c8SVoO_WZbbWV\" # 4DN\n",
        "gdown.download(id=id, output=\"Ramani et al.zip\", quiet=False)"
      ],
      "metadata": {
        "colab": {
          "base_uri": "https://localhost:8080/",
          "height": 110
        },
        "id": "656VmVLmKb4Y",
        "outputId": "e3f46de6-279e-40c9-c592-bc710d4f2eae"
      },
      "execution_count": 10,
      "outputs": [
        {
          "output_type": "stream",
          "name": "stderr",
          "text": [
            "Downloading...\n",
            "From: https://drive.google.com/uc?id=1NX6MGSz3JJ_7iN8VDZjjpMlLaqlpA60t\n",
            "To: /content/Higashi/Ramani et al.zip\n",
            "100%|██████████| 256M/256M [00:00<00:00, 322MB/s]\n"
          ]
        },
        {
          "output_type": "execute_result",
          "data": {
            "text/plain": [
              "'Ramani et al.zip'"
            ],
            "application/vnd.google.colaboratory.intrinsic+json": {
              "type": "string"
            }
          },
          "metadata": {},
          "execution_count": 10
        }
      ]
    },
    {
      "cell_type": "code",
      "source": [
        "!mkdir Ramani"
      ],
      "metadata": {
        "id": "LJvDf095MIG4"
      },
      "execution_count": 11,
      "outputs": []
    },
    {
      "cell_type": "code",
      "source": [
        "!pwd"
      ],
      "metadata": {
        "colab": {
          "base_uri": "https://localhost:8080/"
        },
        "id": "wqNr9vTmnJxi",
        "outputId": "0daf4c73-f59d-4995-f61f-3b9c64836221"
      },
      "execution_count": 12,
      "outputs": [
        {
          "output_type": "stream",
          "name": "stdout",
          "text": [
            "/content/Higashi\n"
          ]
        }
      ]
    },
    {
      "cell_type": "code",
      "source": [
        "!unzip 'Ramani et al.zip' -d Ramani"
      ],
      "metadata": {
        "colab": {
          "base_uri": "https://localhost:8080/"
        },
        "id": "uwPFE5ZAKfGz",
        "outputId": "e566da72-6d08-4f09-efbf-0c67aae6b6de"
      },
      "execution_count": 13,
      "outputs": [
        {
          "output_type": "stream",
          "name": "stdout",
          "text": [
            "Archive:  Ramani et al.zip\n",
            "   creating: Ramani/Ramani et al/\n",
            "  inflating: Ramani/Ramani et al/config_ramani.JSON  \n",
            "  inflating: Ramani/Ramani et al/cytoBand_hg19.txt  \n",
            "  inflating: Ramani/Ramani et al/data.txt  \n",
            "  inflating: Ramani/Ramani et al/hg19.chrom.sizes.txt  \n",
            "  inflating: Ramani/Ramani et al/label_info.pickle  \n"
          ]
        }
      ]
    },
    {
      "cell_type": "code",
      "source": [
        "!mv \"Ramani/Ramani et al/config_ramani.JSON\" \"Ramani/config_ramani.JSON\"\n",
        "!mv \"Ramani/Ramani et al/data.txt\" \"Ramani/data.txt\"\n",
        "!mv \"Ramani/Ramani et al/label_info.pickle\" \"Ramani/label_info.pickle\""
      ],
      "metadata": {
        "id": "Iy9PwAVmo3az"
      },
      "execution_count": 14,
      "outputs": []
    },
    {
      "cell_type": "markdown",
      "source": [
        "## genome reference\n",
        "Path of the genome reference file from USCS Genome Browser, will be used to generate bin nodes\n",
        "- 下載: https://www.genome.ucsc.edu/goldenpath/help/hg19.chrom.sizes"
      ],
      "metadata": {
        "id": "UKPkFd6vSBKE"
      }
    },
    {
      "cell_type": "code",
      "source": [
        "!wget https://www.genome.ucsc.edu/goldenpath/help/hg19.chrom.sizes"
      ],
      "metadata": {
        "colab": {
          "base_uri": "https://localhost:8080/"
        },
        "id": "amacsHTfRnL0",
        "outputId": "84181a9c-30b6-4b1a-d4a7-105b19ee4984"
      },
      "execution_count": 15,
      "outputs": [
        {
          "output_type": "stream",
          "name": "stdout",
          "text": [
            "--2022-06-15 15:04:45--  https://www.genome.ucsc.edu/goldenpath/help/hg19.chrom.sizes\n",
            "Resolving www.genome.ucsc.edu (www.genome.ucsc.edu)... 128.114.119.131, 128.114.119.132\n",
            "Connecting to www.genome.ucsc.edu (www.genome.ucsc.edu)|128.114.119.131|:443... connected.\n",
            "HTTP request sent, awaiting response... 200 OK\n",
            "Length: 1971 (1.9K)\n",
            "Saving to: ‘hg19.chrom.sizes’\n",
            "\n",
            "hg19.chrom.sizes    100%[===================>]   1.92K  --.-KB/s    in 0s      \n",
            "\n",
            "2022-06-15 15:04:46 (108 MB/s) - ‘hg19.chrom.sizes’ saved [1971/1971]\n",
            "\n"
          ]
        }
      ]
    },
    {
      "cell_type": "code",
      "source": [
        "!mv ./hg19.chrom.sizes ./Ramani/"
      ],
      "metadata": {
        "id": "xWIFXQcaR0X8"
      },
      "execution_count": 16,
      "outputs": []
    },
    {
      "cell_type": "markdown",
      "source": [
        "## cytoband reference\n",
        "Path of the cytoband reference file from USCS Genome Browser, will be used to remove centromere regions"
      ],
      "metadata": {
        "id": "H-ExPdFmSW3m"
      }
    },
    {
      "cell_type": "code",
      "source": [
        "!wget https://raw.githubusercontent.com/waldronlab/subtypeHeterogeneity/master/inst/extdata/cytoBand_hg19.txt"
      ],
      "metadata": {
        "colab": {
          "base_uri": "https://localhost:8080/"
        },
        "id": "ZLrdiUcTjlOj",
        "outputId": "ffc7b211-e2b0-4548-b719-90df94ed757d"
      },
      "execution_count": 17,
      "outputs": [
        {
          "output_type": "stream",
          "name": "stdout",
          "text": [
            "--2022-06-15 15:04:46--  https://raw.githubusercontent.com/waldronlab/subtypeHeterogeneity/master/inst/extdata/cytoBand_hg19.txt\n",
            "Resolving raw.githubusercontent.com (raw.githubusercontent.com)... 185.199.111.133, 185.199.108.133, 185.199.110.133, ...\n",
            "Connecting to raw.githubusercontent.com (raw.githubusercontent.com)|185.199.111.133|:443... connected.\n",
            "HTTP request sent, awaiting response... 200 OK\n",
            "Length: 30754 (30K) [text/plain]\n",
            "Saving to: ‘cytoBand_hg19.txt’\n",
            "\n",
            "cytoBand_hg19.txt   100%[===================>]  30.03K  --.-KB/s    in 0.003s  \n",
            "\n",
            "2022-06-15 15:04:47 (9.72 MB/s) - ‘cytoBand_hg19.txt’ saved [30754/30754]\n",
            "\n"
          ]
        }
      ]
    },
    {
      "cell_type": "code",
      "source": [
        "!mv cytoBand_hg19.txt ./Ramani/cytoBand_hg19.txt"
      ],
      "metadata": {
        "id": "zEeELoViTOCp"
      },
      "execution_count": 18,
      "outputs": []
    },
    {
      "cell_type": "code",
      "source": [
        "%ll ./Ramani"
      ],
      "metadata": {
        "colab": {
          "base_uri": "https://localhost:8080/"
        },
        "id": "I6XxnCtnLXtb",
        "outputId": "34628d61-1793-440e-b455-a693de665208"
      },
      "execution_count": 19,
      "outputs": [
        {
          "output_type": "stream",
          "name": "stdout",
          "text": [
            "total 884484\n",
            "-rw-r--r-- 1 root      1318 Jan 25 23:22  config_ramani.JSON\n",
            "-rw-r--r-- 1 root     30754 Jun 15 15:04  cytoBand_hg19.txt\n",
            "-rw-r--r-- 1 root 905651666 Jan  4 12:03  data.txt\n",
            "-rw-r--r-- 1 root      1971 Jun 22  2009  hg19.chrom.sizes\n",
            "-rw-r--r-- 1 root      8048 Jan  4 11:59  label_info.pickle\n",
            "drwxr-xr-x 2 root      4096 Jun 15 15:04 \u001b[0m\u001b[01;34m'Ramani et al'\u001b[0m/\n"
          ]
        }
      ]
    },
    {
      "cell_type": "markdown",
      "source": [
        "### 看一下 config_ramani.JSON\""
      ],
      "metadata": {
        "id": "uV1ueBz8PMq5"
      }
    },
    {
      "cell_type": "code",
      "source": [
        "!cat \"Ramani/config_ramani.JSON\""
      ],
      "metadata": {
        "colab": {
          "base_uri": "https://localhost:8080/"
        },
        "id": "2iBFnB3DPL75",
        "outputId": "7ce230f5-d4e9-4de1-a57e-dfca74bb2162"
      },
      "execution_count": 20,
      "outputs": [
        {
          "output_type": "stream",
          "name": "stdout",
          "text": [
            "{\n",
            "  \"config_name\": \"ramani et. al\",\n",
            "  \"data_dir\": \"/work/magroup/ruochiz/Data/scHiC_collection/ramani\",\n",
            "  \"temp_dir\": \"/work/magroup/ruochiz/Higashi/Temp/ramani\",\n",
            "  \"genome_reference_path\": \"/work/magroup/ruochiz/Higashi/hg19.chrom.sizes.txt\",\n",
            "  \"cytoband_path\": \"/work/magroup/ruochiz/Higashi/cytoBand_hg19.txt\",\n",
            "  \"chrom_list\": [\"chr1\",\"chr2\",\"chr3\",\"chr4\",\"chr5\",\n",
            "\t\t\t  \"chr6\",\"chr7\",\"chr8\",\"chr9\",\"chr10\",\n",
            "\t\t\t  \"chr11\",\"chr12\",\"chr13\",\"chr14\",\"chr15\",\n",
            "\t\t\t  \"chr16\",\"chr17\",\"chr18\",\"chr19\",\"chr20\",\n",
            "\t\t\t  \"chr21\",\"chr22\",\"chrX\"],\n",
            "  \"resolution\": 1000000,\n",
            "  \"resolution_cell\": 1000000,\n",
            "  \"minimum_distance\": 2000000,\n",
            "  \"maximum_distance\": -1,\n",
            "  \"local_transfer_range\": 1,\n",
            "  \"dimensions\": 64,\n",
            "  \"impute_list\":[\"chr1\",\"chr2\",\"chr3\",\"chr4\",\"chr5\",\n",
            "\t\t\t  \"chr6\",\"chr7\",\"chr8\",\"chr9\",\"chr10\",\n",
            "\t\t\t  \"chr11\",\"chr12\",\"chr13\",\"chr14\",\"chr15\",\n",
            "\t\t\t  \"chr16\",\"chr17\",\"chr18\",\"chr19\",\"chr20\",\n",
            "\t\t\t  \"chr21\",\"chr22\",\"chrX\"],\n",
            "  \"minimum_impute_distance\": 0,\n",
            "  \"maximum_impute_distance\": -1,\n",
            "  \"neighbor_num\": 5,\n",
            "  \"plot_start\": 0,\n",
            "  \"plot_end\": -1,\n",
            "  \"plot_label\": [\"cell type\"],\n",
            "  \"call_tads\": false,\n",
            "  \"embedding_name\": \"exp_zinb3\",\n",
            "  \"cpu_num\": -1,\n",
            "  \"gpu_num\": 1,\n",
            "  \"optional_smooth\": false,\n",
            "  \"optional_quantile\": false,\n",
            "  \"rank_thres\": 1,\n",
            "  \"loss_mode\": \"zinb\",\n",
            "  \"random_walk\": false,\n",
            "    \"UMAP_params\": {\"n_neighbors\": 20\n",
            "  }\n",
            "}"
          ]
        }
      ]
    },
    {
      "cell_type": "markdown",
      "source": [
        "## Step 3: 改參數 \n",
        "./Ramani/my_config_ramani.JSON"
      ],
      "metadata": {
        "id": "bBzfLVGVQEOK"
      }
    },
    {
      "cell_type": "code",
      "source": [
        "%%shell\n",
        "\n",
        "cat >> ./Ramani/my_config_ramani.JSON << EOF\n",
        "{\n",
        "  \"config_name\": \"ramani et. al\",\n",
        "  \"data_dir\": \"Ramani\",\n",
        "  \"temp_dir\": \"Ramani/temp\",\n",
        "  \"genome_reference_path\": \"Ramani/hg19.chrom.sizes\",\n",
        "  \"cytoband_path\": \"Ramani/cytoBand_hg19.txt\",\n",
        "  \"chrom_list\": [\"chr1\",\"chr2\",\"chr3\",\"chr4\",\"chr5\",\n",
        "\t\t\t  \"chr6\",\"chr7\",\"chr8\",\"chr9\",\"chr10\",\n",
        "\t\t\t  \"chr11\",\"chr12\",\"chr13\",\"chr14\",\"chr15\",\n",
        "\t\t\t  \"chr16\",\"chr17\",\"chr18\",\"chr19\",\"chr20\",\n",
        "\t\t\t  \"chr21\",\"chr22\",\"chrX\"],\n",
        "  \"resolution\": 1000000,\n",
        "  \"resolution_cell\": 1000000,\n",
        "  \"minimum_distance\": 2000000,\n",
        "  \"maximum_distance\": -1,\n",
        "  \"local_transfer_range\": 1,\n",
        "  \"dimensions\": 64,\n",
        "  \"impute_list\":[\"chr1\",\"chr2\",\"chr3\",\"chr4\",\"chr5\",\n",
        "\t\t\t  \"chr6\",\"chr7\",\"chr8\",\"chr9\",\"chr10\",\n",
        "\t\t\t  \"chr11\",\"chr12\",\"chr13\",\"chr14\",\"chr15\",\n",
        "\t\t\t  \"chr16\",\"chr17\",\"chr18\",\"chr19\",\"chr20\",\n",
        "\t\t\t  \"chr21\",\"chr22\",\"chrX\"],\n",
        "  \"minimum_impute_distance\": 0,\n",
        "  \"maximum_impute_distance\": -1,\n",
        "  \"neighbor_num\": 5,\n",
        "  \"plot_start\": 0,\n",
        "  \"plot_end\": -1,\n",
        "  \"plot_label\": [\"cell type\"],\n",
        "  \"call_tads\": false,\n",
        "  \"embedding_name\": \"exp_zinb3\",\n",
        "  \"cpu_num\": -1,\n",
        "  \"gpu_num\": 1,\n",
        "  \"optional_smooth\": false,\n",
        "  \"optional_quantile\": false,\n",
        "  \"rank_thres\": 1,\n",
        "  \"loss_mode\": \"zinb\",\n",
        "  \"random_walk\": false,\n",
        "    \"UMAP_params\": {\"n_neighbors\": 20\n",
        "  }\n",
        "}\n",
        "EOF"
      ],
      "metadata": {
        "colab": {
          "base_uri": "https://localhost:8080/"
        },
        "id": "hWH6SMWwTlkR",
        "outputId": "24ccd0da-2e54-49a6-a2e4-5c03f15849f6"
      },
      "execution_count": 21,
      "outputs": [
        {
          "output_type": "execute_result",
          "data": {
            "text/plain": [
              ""
            ]
          },
          "metadata": {},
          "execution_count": 21
        }
      ]
    },
    {
      "cell_type": "code",
      "source": [
        "\n",
        "import gdown\n",
        "id = \"1GBpZwRW8ccrS1EFWwZ8QTgjxv-tSvhLD\"\n",
        "gdown.download(id=id, output=\"runincolab.py\", quiet=False)"
      ],
      "metadata": {
        "id": "3jLH_8GurHdo",
        "colab": {
          "base_uri": "https://localhost:8080/",
          "height": 110
        },
        "outputId": "af9702dc-b64b-493b-f520-a6c6b1778d0f"
      },
      "execution_count": 22,
      "outputs": [
        {
          "output_type": "stream",
          "name": "stderr",
          "text": [
            "Downloading...\n",
            "From: https://drive.google.com/uc?id=1GBpZwRW8ccrS1EFWwZ8QTgjxv-tSvhLD\n",
            "To: /content/Higashi/runincolab.py\n",
            "100%|██████████| 2.58k/2.58k [00:00<00:00, 3.12MB/s]\n"
          ]
        },
        {
          "output_type": "execute_result",
          "data": {
            "text/plain": [
              "'runincolab.py'"
            ],
            "application/vnd.google.colaboratory.intrinsic+json": {
              "type": "string"
            }
          },
          "metadata": {},
          "execution_count": 22
        }
      ]
    },
    {
      "cell_type": "code",
      "source": [
        "!pwd"
      ],
      "metadata": {
        "colab": {
          "base_uri": "https://localhost:8080/"
        },
        "id": "354Dk4hBvBYO",
        "outputId": "df91215d-a1a3-4d58-f972-a0ddc8762b5b"
      },
      "execution_count": 23,
      "outputs": [
        {
          "output_type": "stream",
          "name": "stdout",
          "text": [
            "/content/Higashi\n"
          ]
        }
      ]
    },
    {
      "cell_type": "markdown",
      "source": [
        "## Step 5: 訓練 Higashi"
      ],
      "metadata": {
        "id": "0Brn4K58drS5"
      }
    },
    {
      "cell_type": "code",
      "source": [
        "!python runincolab.py"
      ],
      "metadata": {
        "id": "Gkf3bsW7Y5HI",
        "colab": {
          "base_uri": "https://localhost:8080/"
        },
        "outputId": "6aebd5bc-32ab-474c-ece0-8aad76b4d5fc"
      },
      "execution_count": null,
      "outputs": [
        {
          "output_type": "stream",
          "name": "stdout",
          "text": [
            "generating start/end dict for chromosome\n",
            "extracting from data.txt\n",
            "100% 15891786/15891786 [00:49<00:00, 321713.97it/s]\n",
            "generating contact maps for baseline\n",
            "data loaded\n",
            "4110311 False\n",
            "creating matrices tasks: 100% 23/23 [00:21<00:00,  1.07it/s]\n",
            "total_feats_size 403\n",
            "100% 23/23 [00:04<00:00,  4.69it/s]\n",
            "setting to gpu:0\n",
            "training on data from: ['chr1', 'chr2', 'chr3', 'chr4', 'chr5', 'chr6', 'chr7', 'chr8', 'chr9', 'chr10', 'chr11', 'chr12', 'chr13', 'chr14', 'chr15', 'chr16', 'chr17', 'chr18', 'chr19', 'chr20', 'chr21', 'chr22', 'chrX']\n",
            "total_sparsity_cell 0.025731658257764963\n",
            "no contractive loss\n",
            "batch_size 256\n",
            "Node type num [620 250 244 199 192 181 172 160 147 142 136 136 134 116 108 103  91  82\n",
            "  79  60  64  49  52 156] [ 620  870 1114 1313 1505 1686 1858 2018 2165 2307 2443 2579 2713 2829\n",
            " 2937 3040 3131 3213 3292 3352 3416 3465 3517 3673]\n",
            "start making attribute\n",
            "0.534:  47% 141/300 [00:00<00:00, 419.76it/s]\n",
            "loss 0.5341129899024963 loss best 0.5176699161529541 epochs 141\n",
            "\n",
            "initializing data generator\n",
            "100% 23/23 [00:00<00:00, 452906.07it/s]\n",
            "initializing data generator\n",
            "100% 23/23 [00:00<00:00, 510417.95it/s]\n",
            "First stage training\n",
            "[ Epoch 0 of 60 ]\n",
            "- (Train)   bce:  0.6360, mse:  0.6879,  acc: 39.304 %, pearson: 0.255, spearman: 0.228, elapse: 61.230 s\n",
            "- (Valid) bce:  0.5924,  acc: 42.923 %,pearson: 0.338, spearman: 0.341,elapse: 0.152 s\n",
            "update_rate: 0.000000\t0.000000\tpair_ratio: 0.1\t\n",
            "[ Epoch 1 of 60 ]\n",
            "- (Train)   bce:  0.5749, mse:  0.6261,  acc: 46.777 %, pearson: 0.382, spearman: 0.369, elapse: 59.755 s\n",
            "- (Valid) bce:  0.5625,  acc: 48.158 %,pearson: 0.438, spearman: 0.394,elapse: 0.146 s\n",
            "update_rate: 0.139679\t1.398298\tpair_ratio: 0.2\t\n",
            "[ Epoch 2 of 60 ]\n",
            "- (Train)   bce:  0.5546, mse:  0.6369,  acc: 56.524 %, pearson: 0.438, spearman: 0.410, elapse: 59.830 s\n",
            "- (Valid) bce:  0.5575,  acc: 61.035 %,pearson: 0.446, spearman: 0.411,elapse: 0.096 s\n",
            "update_rate: 0.077150\t0.199473\tpair_ratio: 0.3\t\n",
            "[ Epoch 3 of 60 ]\n",
            "- (Train)   bce:  0.5452, mse:  0.6408,  acc: 62.318 %, pearson: 0.465, spearman: 0.430, elapse: 59.348 s\n",
            "- (Valid) bce:  0.5489,  acc: 60.560 %,pearson: 0.472, spearman: 0.422,elapse: 0.096 s\n",
            "update_rate: 0.042668\t0.148633\tpair_ratio: 0.4\t\n",
            "[ Epoch 4 of 60 ]\n",
            "- (Train)   bce:  0.5400, mse:  0.6494,  acc: 67.121 %, pearson: 0.485, spearman: 0.443, elapse: 59.363 s\n",
            "- (Valid) bce:  0.5371,  acc: 74.414 %,pearson: 0.513, spearman: 0.473,elapse: 0.166 s\n",
            "update_rate: 0.030803\t0.105495\tpair_ratio: 0.5\t\n",
            "[ Epoch 5 of 60 ]\n",
            "- (Train)   bce:  0.5346, mse:  0.6484,  acc: 71.946 %, pearson: 0.504, spearman: 0.456, elapse: 59.360 s\n",
            "- (Valid) bce:  0.5236,  acc: 73.743 %,pearson: 0.516, spearman: 0.463,elapse: 0.154 s\n",
            "update_rate: 0.017610\t0.105803\t\n",
            "[ Epoch 6 of 60 ]\n",
            "- (Train)   bce:  0.5319, mse:  0.6557,  acc: 75.477 %, pearson: 0.517, spearman: 0.465, elapse: 58.494 s\n",
            "- (Valid) bce:  0.5394,  acc: 75.410 %,pearson: 0.513, spearman: 0.461,elapse: 0.136 s\n",
            "update_rate: 0.027273\t0.086247\t\n",
            "[ Epoch 7 of 60 ]\n",
            "- (Train) BCE: 0.561 MSE: 0.625 norm_ratio: 0.00:  16% 159/1000 [00:08<00:47, 17.76it/s]"
          ]
        }
      ]
    }
  ]
}